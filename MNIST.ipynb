{
  "nbformat": 4,
  "nbformat_minor": 0,
  "metadata": {
    "colab": {
      "name": "MNIST.ipynb",
      "version": "0.3.2",
      "provenance": [],
      "collapsed_sections": []
    },
    "kernelspec": {
      "name": "python3",
      "display_name": "Python 3"
    }
  },
  "cells": [
    {
      "cell_type": "code",
      "metadata": {
        "id": "cSVCEZSqoSsV",
        "colab_type": "code",
        "colab": {}
      },
      "source": [
        "\n",
        "# from fastai.vision import *\n",
        "from fastai import vision"
      ],
      "execution_count": 0,
      "outputs": []
    },
    {
      "cell_type": "code",
      "metadata": {
        "id": "Ls7GN8g3Vl_E",
        "colab_type": "code",
        "colab": {
          "base_uri": "https://localhost:8080/",
          "height": 34
        },
        "outputId": "3993d90d-95f3-4f7e-9938-e709ce8709bc"
      },
      "source": [
        "path = vision.untar_data(vision.URLs.MNIST_SAMPLE)\n",
        "path"
      ],
      "execution_count": 3,
      "outputs": [
        {
          "output_type": "execute_result",
          "data": {
            "text/plain": [
              "PosixPath('/root/.fastai/data/mnist_sample')"
            ]
          },
          "metadata": {
            "tags": []
          },
          "execution_count": 3
        }
      ]
    },
    {
      "cell_type": "code",
      "metadata": {
        "id": "YqPt974wAEuX",
        "colab_type": "code",
        "colab": {
          "base_uri": "https://localhost:8080/",
          "height": 84
        },
        "outputId": "b2952dfe-4cf9-46d2-e48b-1ce7d75a0a4c"
      },
      "source": [
        "!ls -l /root/.fastai/data/mnist_sample"
      ],
      "execution_count": 4,
      "outputs": [
        {
          "output_type": "stream",
          "text": [
            "total 288\n",
            "-rw-rw-r-- 1 1001 1001 284086 Sep 26  2018 labels.csv\n",
            "drwxr-x--- 4 1001 1001   4096 Sep 26  2018 train\n",
            "drwxr-x--- 4 1001 1001   4096 Sep 26  2018 valid\n"
          ],
          "name": "stdout"
        }
      ]
    },
    {
      "cell_type": "code",
      "metadata": {
        "id": "Sm4Flh4GAb_4",
        "colab_type": "code",
        "colab": {
          "base_uri": "https://localhost:8080/",
          "height": 185
        },
        "outputId": "d4383b20-8c36-4f69-f3d4-eb95654da371"
      },
      "source": [
        "!cat /root/.fastai/data/mnist_sample/labels.csv | head"
      ],
      "execution_count": 5,
      "outputs": [
        {
          "output_type": "stream",
          "text": [
            "name,label\n",
            "train/3/7463.png,0\n",
            "train/3/21102.png,0\n",
            "train/3/31559.png,0\n",
            "train/3/46882.png,0\n",
            "train/3/26209.png,0\n",
            "train/3/41391.png,0\n",
            "train/3/11910.png,0\n",
            "train/3/52435.png,0\n",
            "train/3/21660.png,0\n"
          ],
          "name": "stdout"
        }
      ]
    },
    {
      "cell_type": "code",
      "metadata": {
        "id": "It6ccTp6Vygx",
        "colab_type": "code",
        "colab": {
          "base_uri": "https://localhost:8080/",
          "height": 54
        },
        "outputId": "8381e357-6368-4594-ba37-0065ca51b06c"
      },
      "source": [
        "print(dir(vision))"
      ],
      "execution_count": 3,
      "outputs": [
        {
          "output_type": "stream",
          "text": [
            "['AUROC', 'AccumulateScheduler', 'AdamW', 'AdaptiveConcatPool2d', 'AffineFunc', 'AffineMatrix', 'AnnealFunc', 'Any', 'AnyStr', 'ArgStar', 'AverageMetric', 'BCEFlat', 'BCEWithLogitsFlat', 'BatchNorm1dFlat', 'BatchSampler', 'BatchSamples', 'BnFreeze', 'BoolOrTensor', 'BufferedWriter', 'ByteTensor', 'BytesIO', 'Callable', 'Callback', 'CallbackHandler', 'CallbackList', 'Category', 'CategoryList', 'CategoryProcessor', 'ClassificationInterpretation', 'Collection', 'Config', 'ConfusionMatrix', 'CoordFunc', 'Counter', 'CrossEntropyFlat', 'DataBunch', 'DataFrame', 'DataFrameOrChunks', 'DataLoader', 'Dataset', 'DatasetType', 'Debugger', 'DeviceDataLoader', 'Dict', 'DistributedDataParallel', 'DoubleTensor', 'EmptyLabel', 'EmptyLabelList', 'Enum', 'ExpRMSPE', 'ExplainedVariance', 'F', 'FBeta', 'FilePathList', 'Flatten', 'FlattenedLoss', 'FloatItem', 'FloatList', 'FloatOrTensor', 'FloatTensor', 'Floats', 'FlowField', 'GradientClipping', 'HalfTensor', 'Hashable', 'HookFunc', 'Image', 'ImageBBox', 'ImageDataBunch', 'ImageImageList', 'ImageList', 'ImagePoints', 'ImageSegment', 'ImgLabel', 'ImgLabels', 'InitVar', 'IntEnum', 'IntOrTensor', 'IntsOrStrs', 'ItemBase', 'ItemList', 'ItemLists', 'ItemsList', 'Iterable', 'Iterator', 'KWArgs', 'KappaScore', 'KeyFunc', 'LabelList', 'LabelLists', 'LabelSmoothingCrossEntropy', 'Lambda', 'LambdaFunc', 'LayerFunc', 'Learner', 'LearnerCallback', 'LightingFunc', 'List', 'ListOrItem', 'ListRules', 'ListSizes', 'LogitTensorImage', 'LongTensor', 'LossFunction', 'MSELossFlat', 'Mapping', 'MasterBar', 'MatthewsCorreff', 'MergeLayer', 'MetricFunc', 'MetricFuncList', 'MetricsList', 'MixedItem', 'MixedItemList', 'MixedProcessor', 'ModelOnCPU', 'ModuleList', 'MultiCategory', 'MultiCategoryList', 'MultiCategoryProcessor', 'NPArray', 'NPArrayList', 'NPArrayMask', 'NPArrayableList', 'NPImage', 'NewType', 'NoneReduceOnCPU', 'NoopLoss', 'NormType', 'Number', 'ObjectCategoryList', 'ObjectItemList', 'OptDataFrame', 'OptListOrItem', 'OptLossFunc', 'OptMetrics', 'OptOptimizer', 'OptRange', 'OptSplitFunc', 'OptStats', 'OptStrList', 'OptStrTuple', 'OptimWrapper', 'Optional', 'OrderedDict', 'PBar', 'PIL', 'ParamList', 'ParameterModule', 'PartialLayer', 'Patch', 'Path', 'PathLikeOrBinaryStream', 'PathOrStr', 'Perplexity', 'PixelFunc', 'PixelShuffle_ICNR', 'Point', 'Points', 'PointsItemList', 'PointsLabelList', 'PoolFlatten', 'PooledSelfAttention2d', 'PreProcessor', 'Precision', 'PrettyString', 'ProcessPoolExecutor', 'ProgressBar', 'R2Score', 'RMSE', 'RandTransform', 'Rank0Tensor', 'Recall', 'RecordOnCPU', 'Recorder', 'ResizeBatch', 'ResizeMethod', 'Sampler', 'Scheduler', 'SegmentationItemList', 'SegmentationLabelList', 'SelfAttention', 'Sequence', 'SequentialEx', 'Series', 'ShortTensor', 'ShowGraph', 'SigmoidRange', 'SimpleNamespace', 'Sizes', 'SmoothenValue', 'SplitArrayList', 'SplitFunc', 'SplitFuncOrIdxList', 'StartOptEnd', 'StrList', 'Tensor', 'TensorDataset', 'TensorImage', 'TensorImageSize', 'TensorOrNumList', 'TensorOrNumber', 'Tensors', 'TfmAffine', 'TfmCoord', 'TfmCrop', 'TfmLighting', 'TfmList', 'TfmPixel', 'ThreadPoolExecutor', 'Tokens', 'Transform', 'Tuple', 'TypeVar', 'URLs', 'Union', 'View', 'WassersteinLoss', 'Weights', '__all__', '__builtins__', '__cached__', '__doc__', '__file__', '__loader__', '__name__', '__package__', '__path__', '__spec__', '__version__', 'abc', 'abstractmethod', 'abstractproperty', 'accuracy', 'accuracy_thresh', 'add_metrics', 'annealing_cos', 'annealing_exp', 'annealing_linear', 'annealing_no', 'annealing_poly', 'apply_init', 'apply_leaf', 'arange_of', 'array', 'arrays_split', 'as_tensor', 'attrgetter', 'auc_roc_score', 'basics', 'batch_to_half', 'batchnorm_2d', 'bb2hw', 'bb_pad_collate', 'bias_types', 'bn2float', 'bn_drop_lin', 'bn_types', 'brightness', 'callbacks', 'camel2snake', 'channel_view', 'children', 'children_and_parameters', 'chunks', 'cifar_stats', 'cnn_learner', 'collections', 'compose', 'concurrent', 'cond_init', 'contextmanager', 'contrast', 'conv2d', 'conv2d_trans', 'conv_layer', 'copy', 'cos', 'create_body', 'create_cnn', 'create_cnn_model', 'create_head', 'crop', 'crop_pad', 'csv', 'cutout', 'data', 'data_collate', 'dataclass', 'datapath4file', 'deepcopy', 'defaultdict', 'defaults', 'denormalize', 'df_names_to_idx', 'dice', 'dihedral', 'dihedral_affine', 'doc', 'download_data', 'download_images', 'download_url', 'embedding', 'error_rate', 'even_mults', 'exp', 'exp_rmspe', 'explained_variance', 'extract_kwargs', 'fastai_types', 'fbeta', 'field', 'find_classes', 'first_layer', 'fit', 'fit_one_cycle', 'flatten_check', 'flatten_model', 'flip_affine', 'flip_lr', 'float_or_x', 'func_args', 'functools', 'gc', 'get_annotations', 'get_files', 'get_image_files', 'get_model', 'get_param_groups', 'get_preds', 'get_tmp_file', 'get_transforms', 'grab_idx', 'gzip', 'has_arg', 'hashlib', 'have_min_pkg_version', 'html', 'icnr', 'idx_dict', 'ifnone', 'image', 'image2np', 'imagenet_stats', 'importlib', 'in_channels', 'index_row', 'init_default', 'inspect', 'io', 'is1d', 'is_dict', 'is_listy', 'is_pathlike', 'is_pool_type', 'is_tuple', 'itemgetter', 'itertools', 'jitter', 'join_path', 'join_paths', 'json', 'last_layer', 'learner', 'listify', 'load_data', 'load_learner', 'loadtxt_str', 'log', 'log_uniform', 'logit', 'logit_', 'loss_batch', 'lr_find', 'mae', 'master_bar', 'math', 'mean_absolute_error', 'mean_squared_error', 'mean_squared_logarithmic_error', 'mimetypes', 'mixup', 'mnist_stats', 'model2half', 'model_type', 'models', 'mse', 'msle', 'namedtuple', 'nn', 'no_wd_types', 'noop', 'normalize', 'normalize_funcs', 'np', 'np2model_tensor', 'np_address', 'num_children', 'num_cpus', 'num_distrib', 'numbers', 'one_cycle_scheduler', 'one_hot', 'one_param', 'open_image', 'open_mask', 'open_mask_rle', 'operator', 'optim', 'os', 'pad', 'parallel', 'partial', 'partition', 'partition_by_cores', 'patches', 'patheffects', 'pathlib', 'pd', 'perspective_warp', 'pickle', 'pil2tensor', 'pkg_resources', 'plot_flat', 'plot_multi', 'plt', 'progress_bar', 'r2_score', 'rand_bool', 'rand_crop', 'rand_pad', 'rand_resize_crop', 'rand_zoom', 'random', 'random_split', 'range_children', 'range_of', 'rank_distrib', 're', 'recurse_eq', 'reduce', 'relu', 'remove_module_load', 'requests', 'requires_grad', 'res_block', 'resize_to', 'rgb_randomize', 'rle_decode', 'rle_encode', 'rmse', 'roc_curve', 'root_mean_squared_error', 'rotate', 'save_texts', 'scale_flow', 'scipy', 'series2cat', 'set_bn_eval', 'set_trace', 'show_all', 'show_image', 'show_multi', 'show_some', 'shutil', 'sigmoid_range', 'simple_cnn', 'sin', 'skew', 'spectral_norm', 'split_kwargs_by_func', 'split_model', 'split_model_idx', 'split_no_wd_params', 'squish', 'subplots', 'subprocess', 'symmetric_warp', 'sys', 'tan', 'tanh', 'tarfile', 'tempfile', 'tensor', 'tensor__array__', 'text2html_table', 'tilt', 'tis2hw', 'to_cpu', 'to_data', 'to_detach', 'to_device', 'to_float', 'to_fp16', 'to_fp32', 'to_half', 'to_int', 'to_np', 'top_k_accuracy', 'torch', 'train_epoch', 'trainable_params', 'trange_of', 'transform', 'trunc_normal_', 'try_import', 'try_int', 'try_save', 'tta', 'typing', 'unet_learner', 'uniform', 'uniform_int', 'uniqueify', 'untar_data', 'url2name', 'url2path', 'validate', 'verify_images', 'vision', 'warn', 'warnings', 'weakref', 'weight_norm', 'yaml', 'zoom', 'zoom_crop']\n"
          ],
          "name": "stdout"
        }
      ]
    },
    {
      "cell_type": "code",
      "metadata": {
        "id": "A2kGFga0a2AS",
        "colab_type": "code",
        "colab": {}
      },
      "source": [
        "data = vision.ImageDataBunch.from_folder(path)"
      ],
      "execution_count": 0,
      "outputs": []
    },
    {
      "cell_type": "code",
      "metadata": {
        "id": "XxmcQ-pSCN8w",
        "colab_type": "code",
        "colab": {
          "base_uri": "https://localhost:8080/",
          "height": 302
        },
        "outputId": "0fe10e81-6968-4008-9f0a-2e7d4c005e09"
      },
      "source": [
        "data"
      ],
      "execution_count": 7,
      "outputs": [
        {
          "output_type": "execute_result",
          "data": {
            "text/plain": [
              "ImageDataBunch;\n",
              "\n",
              "Train: LabelList (12396 items)\n",
              "x: ImageList\n",
              "Image (3, 28, 28),Image (3, 28, 28),Image (3, 28, 28),Image (3, 28, 28),Image (3, 28, 28)\n",
              "y: CategoryList\n",
              "7,7,7,7,7\n",
              "Path: /root/.fastai/data/mnist_sample;\n",
              "\n",
              "Valid: LabelList (2038 items)\n",
              "x: ImageList\n",
              "Image (3, 28, 28),Image (3, 28, 28),Image (3, 28, 28),Image (3, 28, 28),Image (3, 28, 28)\n",
              "y: CategoryList\n",
              "7,7,7,7,7\n",
              "Path: /root/.fastai/data/mnist_sample;\n",
              "\n",
              "Test: None"
            ]
          },
          "metadata": {
            "tags": []
          },
          "execution_count": 7
        }
      ]
    },
    {
      "cell_type": "code",
      "metadata": {
        "id": "P_6zBOveCP9i",
        "colab_type": "code",
        "colab": {
          "base_uri": "https://localhost:8080/",
          "height": 50
        },
        "outputId": "282f660e-7836-464d-be6a-d15cbff74191"
      },
      "source": [
        "learn = vision.cnn_learner(data, vision.models.resnet18, metrics=vision.accuracy)"
      ],
      "execution_count": 10,
      "outputs": [
        {
          "output_type": "stream",
          "text": [
            "Downloading: \"https://download.pytorch.org/models/resnet18-5c106cde.pth\" to /root/.cache/torch/checkpoints/resnet18-5c106cde.pth\n",
            "100%|██████████| 46827520/46827520 [00:00<00:00, 87435557.89it/s]\n"
          ],
          "name": "stderr"
        }
      ]
    },
    {
      "cell_type": "code",
      "metadata": {
        "id": "RONI44qsZm33",
        "colab_type": "code",
        "colab": {}
      },
      "source": [
        "learn.summary()"
      ],
      "execution_count": 0,
      "outputs": []
    },
    {
      "cell_type": "code",
      "metadata": {
        "id": "Uj8NggFlCwJF",
        "colab_type": "code",
        "colab": {
          "base_uri": "https://localhost:8080/",
          "height": 77
        },
        "outputId": "233b195b-e645-4356-c3e6-548bb77af3ff"
      },
      "source": [
        "learn.fit(1)"
      ],
      "execution_count": 11,
      "outputs": [
        {
          "output_type": "display_data",
          "data": {
            "text/html": [
              "<table border=\"1\" class=\"dataframe\">\n",
              "  <thead>\n",
              "    <tr style=\"text-align: left;\">\n",
              "      <th>epoch</th>\n",
              "      <th>train_loss</th>\n",
              "      <th>valid_loss</th>\n",
              "      <th>accuracy</th>\n",
              "      <th>time</th>\n",
              "    </tr>\n",
              "  </thead>\n",
              "  <tbody>\n",
              "    <tr>\n",
              "      <td>0</td>\n",
              "      <td>0.145565</td>\n",
              "      <td>0.089503</td>\n",
              "      <td>0.972031</td>\n",
              "      <td>01:38</td>\n",
              "    </tr>\n",
              "  </tbody>\n",
              "</table>"
            ],
            "text/plain": [
              "<IPython.core.display.HTML object>"
            ]
          },
          "metadata": {
            "tags": []
          }
        }
      ]
    },
    {
      "cell_type": "code",
      "metadata": {
        "id": "MTFs0V3DDwHg",
        "colab_type": "code",
        "colab": {
          "base_uri": "https://localhost:8080/",
          "height": 54
        },
        "outputId": "078de4b0-c91a-4157-e6e3-fdd54811006f"
      },
      "source": [
        "print(dir(vision.models))"
      ],
      "execution_count": 16,
      "outputs": [
        {
          "output_type": "stream",
          "text": [
            "['BasicBlock', 'Darknet', 'DynamicUnet', 'ResLayer', 'ResNet', 'SqueezeNet', 'UnetBlock', 'WideResNet', 'XResNet', '__builtins__', '__cached__', '__doc__', '__file__', '__loader__', '__name__', '__package__', '__path__', '__spec__', 'alexnet', 'darknet', 'densenet121', 'densenet161', 'densenet169', 'densenet201', 'resnet101', 'resnet152', 'resnet18', 'resnet34', 'resnet50', 'squeezenet1_0', 'squeezenet1_1', 'unet', 'vgg16_bn', 'vgg19_bn', 'wrn', 'wrn_22', 'xception', 'xresnet', 'xresnet101', 'xresnet152', 'xresnet18', 'xresnet34', 'xresnet50']\n"
          ],
          "name": "stdout"
        }
      ]
    },
    {
      "cell_type": "code",
      "metadata": {
        "id": "vxy6nmEyY3Pa",
        "colab_type": "code",
        "colab": {}
      },
      "source": [
        ""
      ],
      "execution_count": 0,
      "outputs": []
    }
  ]
}